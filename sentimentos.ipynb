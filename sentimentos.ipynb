{
  "cells": [
    {
      "cell_type": "markdown",
      "metadata": {
        "id": "view-in-github",
        "colab_type": "text"
      },
      "source": [
        "<a href=\"https://colab.research.google.com/github/Maycon-Fidelis/sentimentos/blob/main/sentimentos.ipynb\" target=\"_parent\"><img src=\"https://colab.research.google.com/assets/colab-badge.svg\" alt=\"Open In Colab\"/></a>"
      ]
    },
    {
      "cell_type": "code",
      "execution_count": 1,
      "id": "1feda51e-bbda-491d-a5db-5ca6a2db5634",
      "metadata": {
        "id": "1feda51e-bbda-491d-a5db-5ca6a2db5634"
      },
      "outputs": [],
      "source": [
        "import pandas as pd\n",
        "import numpy as np\n",
        "from sklearn.model_selection import train_test_split\n",
        "from sklearn.feature_extraction.text import CountVectorizer\n",
        "from sklearn.naive_bayes import MultinomialNB\n",
        "from sklearn.metrics import accuracy_score, classification_report"
      ]
    },
    {
      "cell_type": "code",
      "execution_count": 2,
      "id": "97dfb126-76a4-44fc-98dd-fea9c2aa274d",
      "metadata": {
        "id": "97dfb126-76a4-44fc-98dd-fea9c2aa274d"
      },
      "outputs": [],
      "source": [
        "sentimentos = pd.read_csv('data/sentimentos.csv')"
      ]
    },
    {
      "cell_type": "code",
      "execution_count": 3,
      "id": "94232abc-c880-4b0e-81f9-07121879c02f",
      "metadata": {
        "colab": {
          "base_uri": "https://localhost:8080/"
        },
        "id": "94232abc-c880-4b0e-81f9-07121879c02f",
        "outputId": "e0c2647b-1206-4285-9465-6ff00da3f605"
      },
      "outputs": [
        {
          "output_type": "stream",
          "name": "stdout",
          "text": [
            "(476, 2)\n",
            "(459, 2)\n",
            "(459, 2)\n"
          ]
        }
      ],
      "source": [
        "print(sentimentos.shape)\n",
        "sentimentos = sentimentos.drop_duplicates(subset='frase')\n",
        "print(sentimentos.shape)\n",
        "sentimentos = sentimentos.dropna(subset='frase')\n",
        "print(sentimentos.shape)"
      ]
    },
    {
      "cell_type": "code",
      "execution_count": 4,
      "id": "388ccf24-3c69-4400-bc45-52fc1f0670d6",
      "metadata": {
        "id": "388ccf24-3c69-4400-bc45-52fc1f0670d6"
      },
      "outputs": [],
      "source": [
        "x = sentimentos['frase']\n",
        "y = sentimentos['sentimento']"
      ]
    },
    {
      "cell_type": "code",
      "execution_count": 5,
      "id": "5fe880a9-8577-4176-b1b7-0c3e8e05367f",
      "metadata": {
        "id": "5fe880a9-8577-4176-b1b7-0c3e8e05367f"
      },
      "outputs": [],
      "source": [
        "x_train, x_test, y_train, y_test = train_test_split(x,y, test_size=0.2, random_state=42)"
      ]
    },
    {
      "cell_type": "code",
      "execution_count": 6,
      "id": "97bcb3f6-6937-4cc3-8381-d5f55db71fcd",
      "metadata": {
        "id": "97bcb3f6-6937-4cc3-8381-d5f55db71fcd"
      },
      "outputs": [],
      "source": [
        "vectorizer = CountVectorizer()\n",
        "\n",
        "x_train_counts = vectorizer.fit_transform(x_train)\n",
        "x_test_counts = vectorizer.transform(x_test)"
      ]
    },
    {
      "cell_type": "code",
      "execution_count": 7,
      "id": "57b65494-7e06-40de-bab9-68f8aa023154",
      "metadata": {
        "id": "57b65494-7e06-40de-bab9-68f8aa023154"
      },
      "outputs": [],
      "source": [
        "clf = MultinomialNB()\n",
        "clf.fit(x_train_counts, y_train)\n",
        "\n",
        "y_pred = clf.predict(x_test_counts)"
      ]
    },
    {
      "cell_type": "code",
      "execution_count": 8,
      "id": "969d5300-fd99-4a6a-be77-c9ec82e6e9f5",
      "metadata": {
        "colab": {
          "base_uri": "https://localhost:8080/"
        },
        "id": "969d5300-fd99-4a6a-be77-c9ec82e6e9f5",
        "outputId": "9c31a793-d9b3-423e-8a10-c7a3ef866a46"
      },
      "outputs": [
        {
          "output_type": "stream",
          "name": "stdout",
          "text": [
            "0.967391304347826\n",
            "              precision    recall  f1-score   support\n",
            "\n",
            "  felicidade       0.97      0.97      0.97        33\n",
            "       raiva       0.97      1.00      0.99        38\n",
            "    tristeza       0.95      0.90      0.93        21\n",
            "\n",
            "    accuracy                           0.97        92\n",
            "   macro avg       0.96      0.96      0.96        92\n",
            "weighted avg       0.97      0.97      0.97        92\n",
            "\n"
          ]
        }
      ],
      "source": [
        "accuracy = accuracy_score(y_test,y_pred)\n",
        "print(accuracy)\n",
        "\n",
        "classification = classification_report(y_test, y_pred)\n",
        "\n",
        "print(classification)"
      ]
    },
    {
      "cell_type": "code",
      "execution_count": 13,
      "id": "278883d1-3523-4ab4-95a5-447037cb5bb6",
      "metadata": {
        "id": "278883d1-3523-4ab4-95a5-447037cb5bb6"
      },
      "outputs": [],
      "source": [
        "# Função de detectar emoção\n",
        "def detectar_emocao(frase):\n",
        "    frase_count = vectorizer.transform([frase])\n",
        "    probabilidade = clf.predict_proba(frase_count)[0]\n",
        "    maior_probabilidade = np.argmax(probabilidade)\n",
        "\n",
        "    if probabilidade[maior_probabilidade] > 0.2:\n",
        "        return clf.classes_[maior_probabilidade]\n",
        "    else:\n",
        "        return 'Emoção desconhecida'"
      ]
    },
    {
      "cell_type": "code",
      "execution_count": 15,
      "id": "fba43fc6-a5fa-4712-95df-3d5298878eb1",
      "metadata": {
        "colab": {
          "base_uri": "https://localhost:8080/"
        },
        "id": "fba43fc6-a5fa-4712-95df-3d5298878eb1",
        "outputId": "6755fbbb-52b8-44fe-9c85-43bff5299640"
      },
      "outputs": [
        {
          "output_type": "stream",
          "name": "stdout",
          "text": [
            " felicidade\n",
            " raiva\n"
          ]
        }
      ],
      "source": [
        "print(detectar_emocao('eu te amo'))\n",
        "print(detectar_emocao('Eu te odeio'))"
      ]
    }
  ],
  "metadata": {
    "kernelspec": {
      "display_name": "Python 3 (ipykernel)",
      "language": "python",
      "name": "python3"
    },
    "language_info": {
      "codemirror_mode": {
        "name": "ipython",
        "version": 3
      },
      "file_extension": ".py",
      "mimetype": "text/x-python",
      "name": "python",
      "nbconvert_exporter": "python",
      "pygments_lexer": "ipython3",
      "version": "3.12.3"
    },
    "colab": {
      "provenance": [],
      "include_colab_link": true
    }
  },
  "nbformat": 4,
  "nbformat_minor": 5
}