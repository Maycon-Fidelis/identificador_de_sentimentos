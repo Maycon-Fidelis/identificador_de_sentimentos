{
 "cells": [
  {
   "cell_type": "code",
   "execution_count": 16,
   "id": "1feda51e-bbda-491d-a5db-5ca6a2db5634",
   "metadata": {},
   "outputs": [],
   "source": [
    "import pandas as pd\n",
    "import numpy as np\n",
    "from sklearn.model_selection import train_test_split\n",
    "from sklearn.feature_extraction.text import CountVectorizer\n",
    "from sklearn.naive_bayes import MultinomialNB\n",
    "from sklearn.metrics import accuracy_score, classification_report"
   ]
  },
  {
   "cell_type": "code",
   "execution_count": 17,
   "id": "97dfb126-76a4-44fc-98dd-fea9c2aa274d",
   "metadata": {},
   "outputs": [],
   "source": [
    "sentimentos = pd.read_csv('data/sentimentos.csv')"
   ]
  },
  {
   "cell_type": "code",
   "execution_count": 18,
   "id": "94232abc-c880-4b0e-81f9-07121879c02f",
   "metadata": {},
   "outputs": [
    {
     "name": "stdout",
     "output_type": "stream",
     "text": [
      "(3311, 2)\n",
      "(1607, 2)\n",
      "(1607, 2)\n"
     ]
    }
   ],
   "source": [
    "print(sentimentos.shape)\n",
    "sentimentos = sentimentos.drop_duplicates(subset='frase')\n",
    "print(sentimentos.shape)\n",
    "sentimentos = sentimentos.dropna(subset='frase')\n",
    "print(sentimentos.shape)\n",
    "sentimentos['sentimento'] = sentimentos['sentimento'].str.strip()"
   ]
  },
  {
   "cell_type": "code",
   "execution_count": 19,
   "id": "388ccf24-3c69-4400-bc45-52fc1f0670d6",
   "metadata": {},
   "outputs": [],
   "source": [
    "x = sentimentos['frase']\n",
    "y = sentimentos['sentimento']"
   ]
  },
  {
   "cell_type": "code",
   "execution_count": 22,
   "id": "5fe880a9-8577-4176-b1b7-0c3e8e05367f",
   "metadata": {},
   "outputs": [],
   "source": [
    "x_train, x_test, y_train, y_test = train_test_split(x, y, test_size=0.2, random_state=42)"
   ]
  },
  {
   "cell_type": "code",
   "execution_count": 23,
   "id": "97bcb3f6-6937-4cc3-8381-d5f55db71fcd",
   "metadata": {},
   "outputs": [],
   "source": [
    "vectorizer = CountVectorizer()\n",
    "x_train_counts = vectorizer.fit_transform(x_train)\n",
    "x_test_counts = vectorizer.transform(x_test)"
   ]
  },
  {
   "cell_type": "code",
   "execution_count": 24,
   "id": "7cb2f4e1-53d5-4a6d-8a9b-f1ba004a63b7",
   "metadata": {},
   "outputs": [],
   "source": [
    "clf = MultinomialNB()\n",
    "clf.fit(x_train_counts, y_train)\n",
    "y_pred = clf.predict(x_test_counts)"
   ]
  },
  {
   "cell_type": "code",
   "execution_count": 25,
   "id": "57b65494-7e06-40de-bab9-68f8aa023154",
   "metadata": {},
   "outputs": [
    {
     "name": "stdout",
     "output_type": "stream",
     "text": [
      "Acurácia: 0.9316770186335404\n",
      "              precision    recall  f1-score   support\n",
      "\n",
      "  felicidade       0.97      0.91      0.94       111\n",
      "       raiva       0.88      0.97      0.92        88\n",
      "    tristeza       0.94      0.93      0.93       123\n",
      "\n",
      "    accuracy                           0.93       322\n",
      "   macro avg       0.93      0.93      0.93       322\n",
      "weighted avg       0.93      0.93      0.93       322\n",
      "\n"
     ]
    }
   ],
   "source": [
    "print(f'Acurácia: {accuracy_score(y_test, y_pred)}')\n",
    "print(classification_report(y_test, y_pred))\n"
   ]
  },
  {
   "cell_type": "code",
   "execution_count": 26,
   "id": "b94b6afc-2975-49f2-b987-04c9fd4214ca",
   "metadata": {},
   "outputs": [],
   "source": [
    "# Função de detectar emoção\n",
    "def detectar_emocao(frase):\n",
    "    frase_count = vectorizer.transform([frase])\n",
    "    probabilidade = clf.predict_proba(frase_count)[0]\n",
    "    maior_probabilidade = np.argmax(probabilidade)\n",
    "\n",
    "    if probabilidade[maior_probabilidade] > 0.2:\n",
    "        return clf.classes_[maior_probabilidade]\n",
    "    else:\n",
    "        return 'Emoção desconhecida'\n",
    "\n"
   ]
  },
  {
   "cell_type": "code",
   "execution_count": 27,
   "id": "eef9d163-9a3d-4499-969f-0be0cbab589a",
   "metadata": {},
   "outputs": [
    {
     "name": "stdout",
     "output_type": "stream",
     "text": [
      "tristeza\n",
      "raiva\n",
      "felicidade\n"
     ]
    }
   ],
   "source": [
    "print(detectar_emocao('Eu sinto sua falta'))\n",
    "print(detectar_emocao('Não quero saber de nada, eu te odeio!'))\n",
    "print(detectar_emocao('Ganhei um concurso de escrita e tecnologia!'))"
   ]
  }
 ],
 "metadata": {
  "kernelspec": {
   "display_name": "Python 3 (ipykernel)",
   "language": "python",
   "name": "python3"
  },
  "language_info": {
   "codemirror_mode": {
    "name": "ipython",
    "version": 3
   },
   "file_extension": ".py",
   "mimetype": "text/x-python",
   "name": "python",
   "nbconvert_exporter": "python",
   "pygments_lexer": "ipython3",
   "version": "3.10.12"
  }
 },
 "nbformat": 4,
 "nbformat_minor": 5
}
