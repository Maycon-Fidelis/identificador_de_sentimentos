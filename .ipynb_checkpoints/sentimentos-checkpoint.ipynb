{
 "cells": [
  {
   "cell_type": "code",
   "execution_count": 18,
   "id": "1feda51e-bbda-491d-a5db-5ca6a2db5634",
   "metadata": {},
   "outputs": [],
   "source": [
    "import pandas as pd\n",
    "import numpy as np\n",
    "from sklearn.model_selection import train_test_split\n",
    "from sklearn.feature_extraction.text import CountVectorizer\n",
    "from sklearn.naive_bayes import MultinomialNB\n",
    "from sklearn.metrics import accuracy_score, classification_report"
   ]
  },
  {
   "cell_type": "code",
   "execution_count": 2,
   "id": "97dfb126-76a4-44fc-98dd-fea9c2aa274d",
   "metadata": {},
   "outputs": [],
   "source": [
    "sentimentos = pd.read_csv('data/sentimentos.csv')"
   ]
  },
  {
   "cell_type": "code",
   "execution_count": 3,
   "id": "94232abc-c880-4b0e-81f9-07121879c02f",
   "metadata": {},
   "outputs": [
    {
     "name": "stdout",
     "output_type": "stream",
     "text": [
      "(476, 2)\n",
      "(459, 2)\n",
      "(459, 2)\n"
     ]
    }
   ],
   "source": [
    "print(sentimentos.shape)\n",
    "sentimentos = sentimentos.drop_duplicates(subset='frase')\n",
    "print(sentimentos.shape)\n",
    "sentimentos = sentimentos.dropna(subset='frase')\n",
    "print(sentimentos.shape)"
   ]
  },
  {
   "cell_type": "code",
   "execution_count": 4,
   "id": "388ccf24-3c69-4400-bc45-52fc1f0670d6",
   "metadata": {},
   "outputs": [],
   "source": [
    "x = sentimentos['frase']\n",
    "y = sentimentos['sentimento']"
   ]
  },
  {
   "cell_type": "code",
   "execution_count": 5,
   "id": "5fe880a9-8577-4176-b1b7-0c3e8e05367f",
   "metadata": {},
   "outputs": [],
   "source": [
    "x_train, x_test, y_train, y_test = train_test_split(x,y, test_size=0.2, random_state=42)"
   ]
  },
  {
   "cell_type": "code",
   "execution_count": 6,
   "id": "97bcb3f6-6937-4cc3-8381-d5f55db71fcd",
   "metadata": {},
   "outputs": [],
   "source": [
    "vectorizer = CountVectorizer()\n",
    "\n",
    "x_train_counts = vectorizer.fit_transform(x_train)\n",
    "x_test_counts = vectorizer.transform(x_test)"
   ]
  },
  {
   "cell_type": "code",
   "execution_count": 7,
   "id": "57b65494-7e06-40de-bab9-68f8aa023154",
   "metadata": {},
   "outputs": [],
   "source": [
    "clf = MultinomialNB()\n",
    "clf.fit(x_train_counts, y_train)\n",
    "\n",
    "y_pred = clf.predict(x_test_counts)"
   ]
  },
  {
   "cell_type": "code",
   "execution_count": 8,
   "id": "969d5300-fd99-4a6a-be77-c9ec82e6e9f5",
   "metadata": {},
   "outputs": [
    {
     "name": "stdout",
     "output_type": "stream",
     "text": [
      "0.967391304347826\n",
      "              precision    recall  f1-score   support\n",
      "\n",
      "  felicidade       0.97      0.97      0.97        33\n",
      "       raiva       0.97      1.00      0.99        38\n",
      "    tristeza       0.95      0.90      0.93        21\n",
      "\n",
      "    accuracy                           0.97        92\n",
      "   macro avg       0.96      0.96      0.96        92\n",
      "weighted avg       0.97      0.97      0.97        92\n",
      "\n"
     ]
    }
   ],
   "source": [
    "accuracy = accuracy_score(y_test,y_pred)\n",
    "print(accuracy)\n",
    "\n",
    "classification = classification_report(y_test, y_pred)\n",
    "\n",
    "print(classification)"
   ]
  },
  {
   "cell_type": "code",
   "execution_count": 9,
   "id": "278883d1-3523-4ab4-95a5-447037cb5bb6",
   "metadata": {},
   "outputs": [],
   "source": [
    "# Função de detectar emoção\n",
    "def detectar_emocao(frase):\n",
    "    frase_count = vectorizer.transform([frase])\n",
    "    probabilidade = clf.predict_proba(frase_count)[0]\n",
    "    maior_probabilidade = np.argmax(probabilidade)\n",
    "\n",
    "    if probabilidade[maior_probabilidade] > 0.5:\n",
    "        return clf.classes_[maior_probabilidade]\n",
    "    else:\n",
    "        return 'Emoção desconhecida'"
   ]
  },
  {
   "cell_type": "code",
   "execution_count": 20,
   "id": "fba43fc6-a5fa-4712-95df-3d5298878eb1",
   "metadata": {},
   "outputs": [
    {
     "ename": "FileNotFoundError",
     "evalue": "[Errno 2] No such file or directory: '../model/sentiment_model.pk1'",
     "output_type": "error",
     "traceback": [
      "\u001b[0;31m---------------------------------------------------------------------------\u001b[0m",
      "\u001b[0;31mFileNotFoundError\u001b[0m                         Traceback (most recent call last)",
      "Cell \u001b[0;32mIn[20], line 1\u001b[0m\n\u001b[0;32m----> 1\u001b[0m \u001b[43mjoblib\u001b[49m\u001b[38;5;241;43m.\u001b[39;49m\u001b[43mdump\u001b[49m\u001b[43m(\u001b[49m\u001b[43mdetectar_emocao\u001b[49m\u001b[43m,\u001b[49m\u001b[43m \u001b[49m\u001b[38;5;124;43m'\u001b[39;49m\u001b[38;5;124;43m../model/sentiment_model.pk1\u001b[39;49m\u001b[38;5;124;43m'\u001b[39;49m\u001b[43m)\u001b[49m\n",
      "File \u001b[0;32m~/.config/jupyterlab-desktop/jlab_server/lib/python3.12/site-packages/joblib/numpy_pickle.py:552\u001b[0m, in \u001b[0;36mdump\u001b[0;34m(value, filename, compress, protocol, cache_size)\u001b[0m\n\u001b[1;32m    550\u001b[0m         NumpyPickler(f, protocol\u001b[38;5;241m=\u001b[39mprotocol)\u001b[38;5;241m.\u001b[39mdump(value)\n\u001b[1;32m    551\u001b[0m \u001b[38;5;28;01melif\u001b[39;00m is_filename:\n\u001b[0;32m--> 552\u001b[0m     \u001b[38;5;28;01mwith\u001b[39;00m \u001b[38;5;28;43mopen\u001b[39;49m\u001b[43m(\u001b[49m\u001b[43mfilename\u001b[49m\u001b[43m,\u001b[49m\u001b[43m \u001b[49m\u001b[38;5;124;43m'\u001b[39;49m\u001b[38;5;124;43mwb\u001b[39;49m\u001b[38;5;124;43m'\u001b[39;49m\u001b[43m)\u001b[49m \u001b[38;5;28;01mas\u001b[39;00m f:\n\u001b[1;32m    553\u001b[0m         NumpyPickler(f, protocol\u001b[38;5;241m=\u001b[39mprotocol)\u001b[38;5;241m.\u001b[39mdump(value)\n\u001b[1;32m    554\u001b[0m \u001b[38;5;28;01melse\u001b[39;00m:\n",
      "\u001b[0;31mFileNotFoundError\u001b[0m: [Errno 2] No such file or directory: '../model/sentiment_model.pk1'"
     ]
    }
   ],
   "source": [
    "print(detectar_emocao('estou com vontade de chorar'))"
   ]
  }
 ],
 "metadata": {
  "kernelspec": {
   "display_name": "Python 3 (ipykernel)",
   "language": "python",
   "name": "python3"
  },
  "language_info": {
   "codemirror_mode": {
    "name": "ipython",
    "version": 3
   },
   "file_extension": ".py",
   "mimetype": "text/x-python",
   "name": "python",
   "nbconvert_exporter": "python",
   "pygments_lexer": "ipython3",
   "version": "3.12.3"
  }
 },
 "nbformat": 4,
 "nbformat_minor": 5
}
